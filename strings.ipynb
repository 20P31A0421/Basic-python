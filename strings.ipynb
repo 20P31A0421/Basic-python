{
 "cells": [
  {
   "cell_type": "code",
   "execution_count": 1,
   "id": "ceb73761",
   "metadata": {},
   "outputs": [],
   "source": [
    "str1='hellopython'"
   ]
  },
  {
   "cell_type": "code",
   "execution_count": 2,
   "id": "0b6e01ed",
   "metadata": {},
   "outputs": [
    {
     "data": {
      "text/plain": [
       "'hellopython'"
      ]
     },
     "execution_count": 2,
     "metadata": {},
     "output_type": "execute_result"
    }
   ],
   "source": [
    "str1"
   ]
  },
  {
   "cell_type": "code",
   "execution_count": 3,
   "id": "2686c15c",
   "metadata": {},
   "outputs": [
    {
     "data": {
      "text/plain": [
       "'h'"
      ]
     },
     "execution_count": 3,
     "metadata": {},
     "output_type": "execute_result"
    }
   ],
   "source": [
    "str1[0]"
   ]
  },
  {
   "cell_type": "code",
   "execution_count": 4,
   "id": "dda19aa1",
   "metadata": {},
   "outputs": [
    {
     "ename": "TypeError",
     "evalue": "'type' object is not subscriptable",
     "output_type": "error",
     "traceback": [
      "\u001b[1;31m---------------------------------------------------------------------------\u001b[0m",
      "\u001b[1;31mTypeError\u001b[0m                                 Traceback (most recent call last)",
      "Input \u001b[1;32mIn [4]\u001b[0m, in \u001b[0;36m<cell line: 1>\u001b[1;34m()\u001b[0m\n\u001b[1;32m----> 1\u001b[0m \u001b[38;5;28;43mstr\u001b[39;49m\u001b[43m[\u001b[49m\u001b[38;5;241;43m2\u001b[39;49m\u001b[43m]\u001b[49m\n",
      "\u001b[1;31mTypeError\u001b[0m: 'type' object is not subscriptable"
     ]
    }
   ],
   "source": [
    "str[2]"
   ]
  },
  {
   "cell_type": "code",
   "execution_count": 5,
   "id": "1ab1414b",
   "metadata": {},
   "outputs": [
    {
     "data": {
      "text/plain": [
       "'e'"
      ]
     },
     "execution_count": 5,
     "metadata": {},
     "output_type": "execute_result"
    }
   ],
   "source": [
    "str1[1]"
   ]
  },
  {
   "cell_type": "code",
   "execution_count": 6,
   "id": "629f4061",
   "metadata": {},
   "outputs": [
    {
     "data": {
      "text/plain": [
       "'l'"
      ]
     },
     "execution_count": 6,
     "metadata": {},
     "output_type": "execute_result"
    }
   ],
   "source": [
    "str1[2]"
   ]
  },
  {
   "cell_type": "code",
   "execution_count": 7,
   "id": "8508fc4d",
   "metadata": {},
   "outputs": [
    {
     "data": {
      "text/plain": [
       "'l'"
      ]
     },
     "execution_count": 7,
     "metadata": {},
     "output_type": "execute_result"
    }
   ],
   "source": [
    "str1[3]"
   ]
  },
  {
   "cell_type": "code",
   "execution_count": 8,
   "id": "545bc35e",
   "metadata": {},
   "outputs": [
    {
     "data": {
      "text/plain": [
       "'o'"
      ]
     },
     "execution_count": 8,
     "metadata": {},
     "output_type": "execute_result"
    }
   ],
   "source": [
    "str1[4]"
   ]
  },
  {
   "cell_type": "code",
   "execution_count": 9,
   "id": "2062a3c8",
   "metadata": {},
   "outputs": [
    {
     "data": {
      "text/plain": [
       "'p'"
      ]
     },
     "execution_count": 9,
     "metadata": {},
     "output_type": "execute_result"
    }
   ],
   "source": [
    "str1[5]"
   ]
  },
  {
   "cell_type": "code",
   "execution_count": 10,
   "id": "ad6f1c7a",
   "metadata": {},
   "outputs": [
    {
     "data": {
      "text/plain": [
       "'y'"
      ]
     },
     "execution_count": 10,
     "metadata": {},
     "output_type": "execute_result"
    }
   ],
   "source": [
    "str1[6]"
   ]
  },
  {
   "cell_type": "code",
   "execution_count": 11,
   "id": "d094062f",
   "metadata": {},
   "outputs": [
    {
     "data": {
      "text/plain": [
       "'t'"
      ]
     },
     "execution_count": 11,
     "metadata": {},
     "output_type": "execute_result"
    }
   ],
   "source": [
    "str1[7]"
   ]
  },
  {
   "cell_type": "code",
   "execution_count": 12,
   "id": "8d9ffdea",
   "metadata": {},
   "outputs": [
    {
     "data": {
      "text/plain": [
       "'h'"
      ]
     },
     "execution_count": 12,
     "metadata": {},
     "output_type": "execute_result"
    }
   ],
   "source": [
    "str1[8]"
   ]
  },
  {
   "cell_type": "code",
   "execution_count": 13,
   "id": "397a66f4",
   "metadata": {},
   "outputs": [
    {
     "data": {
      "text/plain": [
       "'o'"
      ]
     },
     "execution_count": 13,
     "metadata": {},
     "output_type": "execute_result"
    }
   ],
   "source": [
    "str1[9]"
   ]
  },
  {
   "cell_type": "code",
   "execution_count": 14,
   "id": "561912db",
   "metadata": {},
   "outputs": [
    {
     "data": {
      "text/plain": [
       "'n'"
      ]
     },
     "execution_count": 14,
     "metadata": {},
     "output_type": "execute_result"
    }
   ],
   "source": [
    "str1[10]"
   ]
  },
  {
   "cell_type": "code",
   "execution_count": 15,
   "id": "bf2696ae",
   "metadata": {},
   "outputs": [
    {
     "ename": "IndexError",
     "evalue": "string index out of range",
     "output_type": "error",
     "traceback": [
      "\u001b[1;31m---------------------------------------------------------------------------\u001b[0m",
      "\u001b[1;31mIndexError\u001b[0m                                Traceback (most recent call last)",
      "Input \u001b[1;32mIn [15]\u001b[0m, in \u001b[0;36m<cell line: 1>\u001b[1;34m()\u001b[0m\n\u001b[1;32m----> 1\u001b[0m \u001b[43mstr1\u001b[49m\u001b[43m[\u001b[49m\u001b[38;5;241;43m20\u001b[39;49m\u001b[43m]\u001b[49m\n",
      "\u001b[1;31mIndexError\u001b[0m: string index out of range"
     ]
    }
   ],
   "source": [
    "str1[20]"
   ]
  },
  {
   "cell_type": "code",
   "execution_count": 16,
   "id": "68f21c65",
   "metadata": {},
   "outputs": [
    {
     "data": {
      "text/plain": [
       "'y'"
      ]
     },
     "execution_count": 16,
     "metadata": {},
     "output_type": "execute_result"
    }
   ],
   "source": [
    "str1[6]"
   ]
  },
  {
   "cell_type": "code",
   "execution_count": 17,
   "id": "8e6d3282",
   "metadata": {},
   "outputs": [
    {
     "data": {
      "text/plain": [
       "'hellopython'"
      ]
     },
     "execution_count": 17,
     "metadata": {},
     "output_type": "execute_result"
    }
   ],
   "source": [
    "str1"
   ]
  },
  {
   "cell_type": "code",
   "execution_count": 18,
   "id": "afec33f0",
   "metadata": {},
   "outputs": [
    {
     "data": {
      "text/plain": [
       "'llo'"
      ]
     },
     "execution_count": 18,
     "metadata": {},
     "output_type": "execute_result"
    }
   ],
   "source": [
    "str1[2:5]"
   ]
  },
  {
   "cell_type": "code",
   "execution_count": 19,
   "id": "d59affe4",
   "metadata": {},
   "outputs": [
    {
     "data": {
      "text/plain": [
       "'pyt'"
      ]
     },
     "execution_count": 19,
     "metadata": {},
     "output_type": "execute_result"
    }
   ],
   "source": [
    "str1[5:8]"
   ]
  },
  {
   "cell_type": "code",
   "execution_count": 20,
   "id": "46fdc3f8",
   "metadata": {},
   "outputs": [
    {
     "data": {
      "text/plain": [
       "'pytho'"
      ]
     },
     "execution_count": 20,
     "metadata": {},
     "output_type": "execute_result"
    }
   ],
   "source": [
    "str1[5:10]"
   ]
  },
  {
   "cell_type": "code",
   "execution_count": 21,
   "id": "417a57db",
   "metadata": {},
   "outputs": [
    {
     "data": {
      "text/plain": [
       "'hellopytho'"
      ]
     },
     "execution_count": 21,
     "metadata": {},
     "output_type": "execute_result"
    }
   ],
   "source": [
    "str1[0:10]"
   ]
  },
  {
   "cell_type": "code",
   "execution_count": 22,
   "id": "cdb8f57e",
   "metadata": {},
   "outputs": [
    {
     "data": {
      "text/plain": [
       "'hellopython'"
      ]
     },
     "execution_count": 22,
     "metadata": {},
     "output_type": "execute_result"
    }
   ],
   "source": [
    "str1[0:11]"
   ]
  },
  {
   "cell_type": "code",
   "execution_count": 23,
   "id": "4f7308b2",
   "metadata": {},
   "outputs": [
    {
     "data": {
      "text/plain": [
       "'hello'"
      ]
     },
     "execution_count": 23,
     "metadata": {},
     "output_type": "execute_result"
    }
   ],
   "source": [
    "str1[0:5]"
   ]
  },
  {
   "cell_type": "code",
   "execution_count": 24,
   "id": "1bec1e97",
   "metadata": {},
   "outputs": [],
   "source": [
    "st1='fine'"
   ]
  },
  {
   "cell_type": "code",
   "execution_count": 25,
   "id": "1a2f9778",
   "metadata": {},
   "outputs": [
    {
     "data": {
      "text/plain": [
       "'fine'"
      ]
     },
     "execution_count": 25,
     "metadata": {},
     "output_type": "execute_result"
    }
   ],
   "source": [
    "st1"
   ]
  },
  {
   "cell_type": "code",
   "execution_count": 26,
   "id": "2b1661c7",
   "metadata": {},
   "outputs": [
    {
     "ename": "TypeError",
     "evalue": "'str' object does not support item assignment",
     "output_type": "error",
     "traceback": [
      "\u001b[1;31m---------------------------------------------------------------------------\u001b[0m",
      "\u001b[1;31mTypeError\u001b[0m                                 Traceback (most recent call last)",
      "Input \u001b[1;32mIn [26]\u001b[0m, in \u001b[0;36m<cell line: 1>\u001b[1;34m()\u001b[0m\n\u001b[1;32m----> 1\u001b[0m st1[\u001b[38;5;241m0\u001b[39m:]\u001b[38;5;241m=\u001b[39m\u001b[38;5;124m'\u001b[39m\u001b[38;5;124mn\u001b[39m\u001b[38;5;124m'\u001b[39m\n",
      "\u001b[1;31mTypeError\u001b[0m: 'str' object does not support item assignment"
     ]
    }
   ],
   "source": [
    "st1[0:]='n'"
   ]
  },
  {
   "cell_type": "code",
   "execution_count": 27,
   "id": "20fb7ac3",
   "metadata": {},
   "outputs": [],
   "source": [
    "st1='fine'\n",
    "st2=st1.replace('fine','nine')"
   ]
  },
  {
   "cell_type": "code",
   "execution_count": 28,
   "id": "b45f1e12",
   "metadata": {},
   "outputs": [
    {
     "data": {
      "text/plain": [
       "'fine'"
      ]
     },
     "execution_count": 28,
     "metadata": {},
     "output_type": "execute_result"
    }
   ],
   "source": [
    "st1"
   ]
  },
  {
   "cell_type": "code",
   "execution_count": 29,
   "id": "e691db85",
   "metadata": {},
   "outputs": [],
   "source": [
    "st1='fine'\n",
    "st2=st1.replace(\"fine\",\"nine\")"
   ]
  },
  {
   "cell_type": "code",
   "execution_count": 30,
   "id": "aab456ed",
   "metadata": {},
   "outputs": [
    {
     "data": {
      "text/plain": [
       "'fine'"
      ]
     },
     "execution_count": 30,
     "metadata": {},
     "output_type": "execute_result"
    }
   ],
   "source": [
    "st1"
   ]
  },
  {
   "cell_type": "code",
   "execution_count": 31,
   "id": "dedef245",
   "metadata": {},
   "outputs": [
    {
     "data": {
      "text/plain": [
       "'alexblurcat'"
      ]
     },
     "execution_count": 31,
     "metadata": {},
     "output_type": "execute_result"
    }
   ],
   "source": [
    "'alex'+'blur'+'cat'"
   ]
  },
  {
   "cell_type": "code",
   "execution_count": 32,
   "id": "f3f18ff6",
   "metadata": {},
   "outputs": [],
   "source": [
    "st2='nareshit'"
   ]
  },
  {
   "cell_type": "code",
   "execution_count": 33,
   "id": "41f2bfc1",
   "metadata": {},
   "outputs": [
    {
     "data": {
      "text/plain": [
       "'nareshit'"
      ]
     },
     "execution_count": 33,
     "metadata": {},
     "output_type": "execute_result"
    }
   ],
   "source": [
    "st2\n"
   ]
  },
  {
   "cell_type": "code",
   "execution_count": 34,
   "id": "4405d1e9",
   "metadata": {},
   "outputs": [
    {
     "data": {
      "text/plain": [
       "'ares'"
      ]
     },
     "execution_count": 34,
     "metadata": {},
     "output_type": "execute_result"
    }
   ],
   "source": [
    "st2[1:5]"
   ]
  },
  {
   "cell_type": "code",
   "execution_count": 35,
   "id": "db10bc47",
   "metadata": {},
   "outputs": [
    {
     "data": {
      "text/plain": [
       "'nares'"
      ]
     },
     "execution_count": 35,
     "metadata": {},
     "output_type": "execute_result"
    }
   ],
   "source": [
    "st2[0:5]"
   ]
  },
  {
   "cell_type": "code",
   "execution_count": 36,
   "id": "8c3120db",
   "metadata": {},
   "outputs": [
    {
     "data": {
      "text/plain": [
       "'eshit'"
      ]
     },
     "execution_count": 36,
     "metadata": {},
     "output_type": "execute_result"
    }
   ],
   "source": [
    "st2[3:8]"
   ]
  },
  {
   "cell_type": "code",
   "execution_count": 37,
   "id": "8afa0162",
   "metadata": {},
   "outputs": [
    {
     "data": {
      "text/plain": [
       "'eshi'"
      ]
     },
     "execution_count": 37,
     "metadata": {},
     "output_type": "execute_result"
    }
   ],
   "source": [
    "st2[-5:-1]"
   ]
  },
  {
   "cell_type": "code",
   "execution_count": 38,
   "id": "5b6cb63f",
   "metadata": {},
   "outputs": [
    {
     "data": {
      "text/plain": [
       "'areshi'"
      ]
     },
     "execution_count": 38,
     "metadata": {},
     "output_type": "execute_result"
    }
   ],
   "source": [
    "st2[-7:-1]"
   ]
  },
  {
   "cell_type": "code",
   "execution_count": 39,
   "id": "a1f2efc8",
   "metadata": {},
   "outputs": [
    {
     "data": {
      "text/plain": [
       "'nareshi'"
      ]
     },
     "execution_count": 39,
     "metadata": {},
     "output_type": "execute_result"
    }
   ],
   "source": [
    "st2[-8:-1]"
   ]
  },
  {
   "cell_type": "code",
   "execution_count": 40,
   "id": "935a7c5d",
   "metadata": {},
   "outputs": [
    {
     "data": {
      "text/plain": [
       "''"
      ]
     },
     "execution_count": 40,
     "metadata": {},
     "output_type": "execute_result"
    }
   ],
   "source": [
    "st2[0:-8]"
   ]
  },
  {
   "cell_type": "code",
   "execution_count": 41,
   "id": "f0a7aa03",
   "metadata": {},
   "outputs": [
    {
     "data": {
      "text/plain": [
       "'eshi'"
      ]
     },
     "execution_count": 41,
     "metadata": {},
     "output_type": "execute_result"
    }
   ],
   "source": [
    "st2[-5:-1]"
   ]
  },
  {
   "cell_type": "code",
   "execution_count": 42,
   "id": "6d47d5a7",
   "metadata": {},
   "outputs": [
    {
     "data": {
      "text/plain": [
       "''"
      ]
     },
     "execution_count": 42,
     "metadata": {},
     "output_type": "execute_result"
    }
   ],
   "source": [
    "st2[-1:-8]"
   ]
  },
  {
   "cell_type": "code",
   "execution_count": 43,
   "id": "4d9ae2e5",
   "metadata": {},
   "outputs": [
    {
     "data": {
      "text/plain": [
       "'nareshi'"
      ]
     },
     "execution_count": 43,
     "metadata": {},
     "output_type": "execute_result"
    }
   ],
   "source": [
    "st2[:-1]"
   ]
  },
  {
   "cell_type": "code",
   "execution_count": 44,
   "id": "ab538e42",
   "metadata": {},
   "outputs": [
    {
     "data": {
      "text/plain": [
       "''"
      ]
     },
     "execution_count": 44,
     "metadata": {},
     "output_type": "execute_result"
    }
   ],
   "source": [
    "st2[-1:0]"
   ]
  },
  {
   "cell_type": "code",
   "execution_count": 45,
   "id": "3907222d",
   "metadata": {},
   "outputs": [
    {
     "data": {
      "text/plain": [
       "'nrsi'"
      ]
     },
     "execution_count": 45,
     "metadata": {},
     "output_type": "execute_result"
    }
   ],
   "source": [
    "st2[0:8:2]"
   ]
  },
  {
   "cell_type": "code",
   "execution_count": 46,
   "id": "3f2a0431",
   "metadata": {},
   "outputs": [
    {
     "data": {
      "text/plain": [
       "'nei'"
      ]
     },
     "execution_count": 46,
     "metadata": {},
     "output_type": "execute_result"
    }
   ],
   "source": [
    "st2[0:8:3]"
   ]
  },
  {
   "cell_type": "code",
   "execution_count": 47,
   "id": "919539d3",
   "metadata": {},
   "outputs": [
    {
     "data": {
      "text/plain": [
       "'nrsi'"
      ]
     },
     "execution_count": 47,
     "metadata": {},
     "output_type": "execute_result"
    }
   ],
   "source": [
    "st2[0:9:2]"
   ]
  },
  {
   "cell_type": "code",
   "execution_count": 48,
   "id": "878f66c4",
   "metadata": {},
   "outputs": [
    {
     "data": {
      "text/plain": [
       "'nei'"
      ]
     },
     "execution_count": 48,
     "metadata": {},
     "output_type": "execute_result"
    }
   ],
   "source": [
    "st2[0:9:3]"
   ]
  },
  {
   "cell_type": "code",
   "execution_count": 49,
   "id": "dd3d6516",
   "metadata": {},
   "outputs": [],
   "source": [
    "str='hellopython'"
   ]
  },
  {
   "cell_type": "code",
   "execution_count": 50,
   "id": "e379173d",
   "metadata": {},
   "outputs": [
    {
     "data": {
      "text/plain": [
       "'hellopython'"
      ]
     },
     "execution_count": 50,
     "metadata": {},
     "output_type": "execute_result"
    }
   ],
   "source": [
    "str"
   ]
  },
  {
   "cell_type": "code",
   "execution_count": 51,
   "id": "c1b84667",
   "metadata": {},
   "outputs": [
    {
     "data": {
      "text/plain": [
       "'nohtypolleh'"
      ]
     },
     "execution_count": 51,
     "metadata": {},
     "output_type": "execute_result"
    }
   ],
   "source": [
    "str[::-1]"
   ]
  },
  {
   "cell_type": "code",
   "execution_count": 52,
   "id": "8929bf61",
   "metadata": {},
   "outputs": [
    {
     "ename": "SyntaxError",
     "evalue": "invalid syntax (1669368947.py, line 1)",
     "output_type": "error",
     "traceback": [
      "\u001b[1;36m  Input \u001b[1;32mIn [52]\u001b[1;36m\u001b[0m\n\u001b[1;33m    str=[::-2]\u001b[0m\n\u001b[1;37m         ^\u001b[0m\n\u001b[1;31mSyntaxError\u001b[0m\u001b[1;31m:\u001b[0m invalid syntax\n"
     ]
    }
   ],
   "source": [
    "str=[::-2]"
   ]
  },
  {
   "cell_type": "code",
   "execution_count": 53,
   "id": "ebeb7039",
   "metadata": {},
   "outputs": [
    {
     "data": {
      "text/plain": [
       "'nhyolh'"
      ]
     },
     "execution_count": 53,
     "metadata": {},
     "output_type": "execute_result"
    }
   ],
   "source": [
    "str[::-2]"
   ]
  },
  {
   "cell_type": "code",
   "execution_count": 54,
   "id": "f5c0740b",
   "metadata": {},
   "outputs": [
    {
     "data": {
      "text/plain": [
       "''"
      ]
     },
     "execution_count": 54,
     "metadata": {},
     "output_type": "execute_result"
    }
   ],
   "source": [
    "str[2:8:-1]"
   ]
  },
  {
   "cell_type": "code",
   "execution_count": 55,
   "id": "0504456f",
   "metadata": {},
   "outputs": [
    {
     "data": {
      "text/plain": [
       "'nohtypo'"
      ]
     },
     "execution_count": 55,
     "metadata": {},
     "output_type": "execute_result"
    }
   ],
   "source": [
    "str[-1:-8:-1]"
   ]
  },
  {
   "cell_type": "code",
   "execution_count": null,
   "id": "3645d668",
   "metadata": {},
   "outputs": [],
   "source": []
  }
 ],
 "metadata": {
  "kernelspec": {
   "display_name": "Python 3 (ipykernel)",
   "language": "python",
   "name": "python3"
  },
  "language_info": {
   "codemirror_mode": {
    "name": "ipython",
    "version": 3
   },
   "file_extension": ".py",
   "mimetype": "text/x-python",
   "name": "python",
   "nbconvert_exporter": "python",
   "pygments_lexer": "ipython3",
   "version": "3.9.12"
  }
 },
 "nbformat": 4,
 "nbformat_minor": 5
}
