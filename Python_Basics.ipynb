{
 "cells": [
  {
   "cell_type": "code",
   "execution_count": 1,
   "id": "aafe000a",
   "metadata": {},
   "outputs": [
    {
     "data": {
      "text/plain": [
       "20"
      ]
     },
     "execution_count": 1,
     "metadata": {},
     "output_type": "execute_result"
    }
   ],
   "source": [
    "a=10\n",
    "b=20\n",
    "a\n",
    "b"
   ]
  },
  {
   "cell_type": "code",
   "execution_count": 2,
   "id": "1fe4c8cc",
   "metadata": {},
   "outputs": [
    {
     "data": {
      "text/plain": [
       "20"
      ]
     },
     "execution_count": 2,
     "metadata": {},
     "output_type": "execute_result"
    }
   ],
   "source": [
    "b"
   ]
  },
  {
   "cell_type": "code",
   "execution_count": 3,
   "id": "5c47d347",
   "metadata": {},
   "outputs": [
    {
     "data": {
      "text/plain": [
       "10"
      ]
     },
     "execution_count": 3,
     "metadata": {},
     "output_type": "execute_result"
    }
   ],
   "source": [
    "a"
   ]
  },
  {
   "cell_type": "code",
   "execution_count": 5,
   "id": "2805d0f7",
   "metadata": {},
   "outputs": [
    {
     "name": "stdout",
     "output_type": "stream",
     "text": [
      "10\n",
      "20\n"
     ]
    }
   ],
   "source": [
    "print(a)\n",
    "print(b)"
   ]
  },
  {
   "cell_type": "code",
   "execution_count": 7,
   "id": "1eebf71f",
   "metadata": {},
   "outputs": [
    {
     "name": "stdout",
     "output_type": "stream",
     "text": [
      "10\n",
      "10 20\n",
      "10 20 python\n",
      "python\n"
     ]
    }
   ],
   "source": [
    "print(10)\n",
    "print(10,20)\n",
    "print(10,20,'python')\n",
    "print('python')"
   ]
  },
  {
   "cell_type": "code",
   "execution_count": 8,
   "id": "538be50c",
   "metadata": {},
   "outputs": [
    {
     "name": "stdout",
     "output_type": "stream",
     "text": [
      "70\n"
     ]
    }
   ],
   "source": [
    "num1=30\n",
    "num2=40\n",
    "add=num1+num2\n",
    "print(add)"
   ]
  },
  {
   "cell_type": "code",
   "execution_count": 12,
   "id": "8bc956f3",
   "metadata": {},
   "outputs": [
    {
     "name": "stdout",
     "output_type": "stream",
     "text": [
      "the addition of 30 and 40 is 70\n"
     ]
    }
   ],
   "source": [
    "num1=30\n",
    "num2=40\n",
    "add=num1+num2\n",
    "print('the addition of',num1,'and',num2,'is',add)"
   ]
  },
  {
   "cell_type": "code",
   "execution_count": 14,
   "id": "da01f3ab",
   "metadata": {},
   "outputs": [],
   "source": [
    "name='Python' \n",
    "age=20\n",
    "city='hyd'\n",
    "#hellow my name is python and i am 10 year old from hydrabad"
   ]
  },
  {
   "cell_type": "code",
   "execution_count": 16,
   "id": "f4216c4e",
   "metadata": {},
   "outputs": [
    {
     "name": "stdout",
     "output_type": "stream",
     "text": [
      "Hello my name is  Python and i am  20 year old from hyd\n"
     ]
    }
   ],
   "source": [
    "print('hello my name is ',name,'and i am ',age,'year old from',city)"
   ]
  },
  {
   "cell_type": "code",
   "execution_count": 21,
   "id": "a99d414f",
   "metadata": {},
   "outputs": [
    {
     "name": "stdout",
     "output_type": "stream",
     "text": [
      "the addition of 20 and 30 is= 50\n"
     ]
    }
   ],
   "source": [
    "num1=20 \n",
    "num2=30\n",
    "add=num1+num2\n",
    "print('the addition of {} and {} is= {}'.format(num1,num2,add))"
   ]
  },
  {
   "cell_type": "code",
   "execution_count": 22,
   "id": "0d61eacf",
   "metadata": {},
   "outputs": [
    {
     "name": "stdout",
     "output_type": "stream",
     "text": [
      "hello my name is Python and i am 20 year old from hyd\n"
     ]
    }
   ],
   "source": [
    "print('hello my name is {} and i am {} year old from {}'.format(name,age,city))"
   ]
  },
  {
   "cell_type": "code",
   "execution_count": 23,
   "id": "eef0e36d",
   "metadata": {},
   "outputs": [
    {
     "name": "stdout",
     "output_type": "stream",
     "text": [
      "The avrage of 100, 25, and 333 is= 152.66666666666666 or 152.67\n"
     ]
    }
   ],
   "source": [
    "num1=100 \n",
    "num2=25 \n",
    "num3=333\n",
    "avg=(num1+num2+num3)/3\n",
    "avg1=round((num1+num2+num3)/3,2)\n",
    "# The avrage of num1,num2,num3 is = avg\n",
    "print('The avrage of {}, {}, and {} is= {} or {}'.format(num1,num2,num3, avg,avg1))\n",
    "# here we can use round(avg,2) also"
   ]
  },
  {
   "cell_type": "code",
   "execution_count": 24,
   "id": "ebb29a42",
   "metadata": {},
   "outputs": [
    {
     "data": {
      "text/plain": [
       "152.67"
      ]
     },
     "execution_count": 24,
     "metadata": {},
     "output_type": "execute_result"
    }
   ],
   "source": [
    "round(avg,2)"
   ]
  },
  {
   "cell_type": "markdown",
   "id": "c66f4b86",
   "metadata": {},
   "source": [
    "# More short format meythod(f string method)\n",
    "#variable should be in curly braces\n",
    "#and write everything inside quots ''\n",
    "#at starting simpaly add f"
   ]
  },
  {
   "cell_type": "code",
   "execution_count": 25,
   "id": "cd6f6239",
   "metadata": {},
   "outputs": [
    {
     "name": "stdout",
     "output_type": "stream",
     "text": [
      "The addition of 100 and 25 is= 125\n"
     ]
    }
   ],
   "source": [
    "add=num1+num2\n",
    "print(f'The addition of {num1} and {num2} is= {add}') # alwase prefer this"
   ]
  },
  {
   "cell_type": "code",
   "execution_count": 28,
   "id": "22b977b2",
   "metadata": {},
   "outputs": [
    {
     "name": "stdout",
     "output_type": "stream",
     "text": [
      "the addition ofPython and i am 20 years old fromhyd\n"
     ]
    }
   ],
   "source": [
    "print(f'the addition of{name} and i am {age} years old from{city}')"
   ]
  },
  {
   "cell_type": "code",
   "execution_count": 29,
   "id": "8f309475",
   "metadata": {},
   "outputs": [],
   "source": [
    "num1=100 \n",
    "num2=25 \n",
    "num3=333\n",
    "avg=round((num1+num2+num3)/3,2) # or we can use avg=round(num1+num2+num3)/3,2) # The avrage of num1,num2,num3 is = avg"
   ]
  },
  {
   "cell_type": "code",
   "execution_count": 30,
   "id": "ac212c9e",
   "metadata": {},
   "outputs": [
    {
     "name": "stdout",
     "output_type": "stream",
     "text": [
      "The avrage of 100, 25 and 333 is = 152.67\n"
     ]
    }
   ],
   "source": [
    "print(f'The avrage of {num1}, {num2} and {num3} is = {avg}')"
   ]
  },
  {
   "cell_type": "code",
   "execution_count": 33,
   "id": "11c67e3b",
   "metadata": {},
   "outputs": [
    {
     "name": "stdout",
     "output_type": "stream",
     "text": [
      "The addition of 10 and 20 is= 30\n",
      "The addition of 10 and 20 is= 30\n",
      "The addition of 10 and 20 is= 30\n"
     ]
    }
   ],
   "source": [
    "# lete combine all\n",
    "num1=10 \n",
    "num2=20\n",
    "add = num1+ num2\n",
    "print('The addition of',num1,'and',num2,'is=',add)\n",
    "print('The addition of {} and {} is= {}'.format(num1,num2,add)) \n",
    "print(f'The addition of {num1} and {num2} is= {add}')"
   ]
  },
  {
   "cell_type": "markdown",
   "id": "244c380a",
   "metadata": {},
   "source": [
    "# end statement"
   ]
  },
  {
   "cell_type": "code",
   "execution_count": 34,
   "id": "1cb3e193",
   "metadata": {},
   "outputs": [
    {
     "name": "stdout",
     "output_type": "stream",
     "text": [
      "hello world good day\n"
     ]
    }
   ],
   "source": [
    "print('hello', end=' ') # 1st statement\n",
    "print('world good day')"
   ]
  },
  {
   "cell_type": "code",
   "execution_count": 36,
   "id": "90f4a363",
   "metadata": {},
   "outputs": [],
   "source": [
    "#seperater"
   ]
  },
  {
   "cell_type": "code",
   "execution_count": 37,
   "id": "384ad196",
   "metadata": {},
   "outputs": [
    {
     "name": "stdout",
     "output_type": "stream",
     "text": [
      "hello hai how are you\n"
     ]
    }
   ],
   "source": [
    "print('hello','hai','how are you')"
   ]
  },
  {
   "cell_type": "code",
   "execution_count": 38,
   "id": "5a234f7e",
   "metadata": {},
   "outputs": [
    {
     "name": "stdout",
     "output_type": "stream",
     "text": [
      "hello--->hai--->how are you\n"
     ]
    }
   ],
   "source": [
    "print('hello','hai','how are you',sep='--->')"
   ]
  },
  {
   "cell_type": "code",
   "execution_count": 39,
   "id": "942a8eb1",
   "metadata": {},
   "outputs": [
    {
     "name": "stdout",
     "output_type": "stream",
     "text": [
      "hello&hai&how are you\n"
     ]
    }
   ],
   "source": [
    "print('hello','hai','how are you',sep='&')"
   ]
  },
  {
   "cell_type": "code",
   "execution_count": 40,
   "id": "8df74f22",
   "metadata": {},
   "outputs": [
    {
     "name": "stdout",
     "output_type": "stream",
     "text": [
      "hello@hai@how are you\n"
     ]
    }
   ],
   "source": [
    "print('hello','hai','how are you',sep='@')"
   ]
  },
  {
   "cell_type": "code",
   "execution_count": 41,
   "id": "03213b11",
   "metadata": {},
   "outputs": [
    {
     "name": "stdout",
     "output_type": "stream",
     "text": [
      "hello^hai^how are you\n"
     ]
    }
   ],
   "source": [
    "print('hello','hai','how are you',sep='^')"
   ]
  },
  {
   "cell_type": "code",
   "execution_count": 42,
   "id": "38f089b1",
   "metadata": {},
   "outputs": [
    {
     "name": "stdout",
     "output_type": "stream",
     "text": [
      "3 .\n"
     ]
    }
   ],
   "source": [
    "print(3,'.')"
   ]
  },
  {
   "cell_type": "code",
   "execution_count": 43,
   "id": "776ef57f",
   "metadata": {},
   "outputs": [
    {
     "name": "stdout",
     "output_type": "stream",
     "text": [
      "3.\n"
     ]
    }
   ],
   "source": [
    "print(3,'.',sep='')"
   ]
  },
  {
   "cell_type": "code",
   "execution_count": 44,
   "id": "e5d6e864",
   "metadata": {},
   "outputs": [
    {
     "name": "stdout",
     "output_type": "stream",
     "text": [
      "1 2 3.\n"
     ]
    }
   ],
   "source": [
    "print(1,2,end=' ') \n",
    "print(3,'.',sep='') # will print 1 2 3."
   ]
  },
  {
   "cell_type": "code",
   "execution_count": null,
   "id": "c3fe81ef",
   "metadata": {},
   "outputs": [],
   "source": []
  }
 ],
 "metadata": {
  "kernelspec": {
   "display_name": "Python 3 (ipykernel)",
   "language": "python",
   "name": "python3"
  },
  "language_info": {
   "codemirror_mode": {
    "name": "ipython",
    "version": 3
   },
   "file_extension": ".py",
   "mimetype": "text/x-python",
   "name": "python",
   "nbconvert_exporter": "python",
   "pygments_lexer": "ipython3",
   "version": "3.9.12"
  }
 },
 "nbformat": 4,
 "nbformat_minor": 5
}
